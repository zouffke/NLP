{
 "cells": [
  {
   "cell_type": "code",
   "id": "initial_id",
   "metadata": {
    "collapsed": true,
    "ExecuteTime": {
     "end_time": "2024-10-21T13:47:38.580173Z",
     "start_time": "2024-10-21T13:47:38.575752Z"
    }
   },
   "source": [
    "import spacy\n",
    "from spacy.language import  Language\n",
    "from global_scripts.txt_parser import read_file_with_encoding"
   ],
   "outputs": [],
   "execution_count": 26
  },
  {
   "metadata": {
    "ExecuteTime": {
     "end_time": "2024-10-21T13:39:58.219307Z",
     "start_time": "2024-10-21T13:39:57.756496Z"
    }
   },
   "cell_type": "code",
   "source": "nlp = spacy.load(\"en_core_web_sm\")",
   "id": "29a36f0577b0c38a",
   "outputs": [],
   "execution_count": 20
  },
  {
   "metadata": {},
   "cell_type": "markdown",
   "source": "## Print pipeline",
   "id": "eff37beff49d464f"
  },
  {
   "metadata": {
    "ExecuteTime": {
     "end_time": "2024-10-21T13:40:27.475177Z",
     "start_time": "2024-10-21T13:40:27.472428Z"
    }
   },
   "cell_type": "code",
   "source": "print(nlp.pipe_names)",
   "id": "d83f787cec181771",
   "outputs": [
    {
     "name": "stdout",
     "output_type": "stream",
     "text": [
      "['tok2vec', 'tagger', 'parser', 'attribute_ruler', 'lemmatizer', 'ner']\n"
     ]
    }
   ],
   "execution_count": 22
  },
  {
   "metadata": {},
   "cell_type": "markdown",
   "source": "## Add component to pipeline",
   "id": "d028e2d20eb0c643"
  },
  {
   "metadata": {
    "ExecuteTime": {
     "end_time": "2024-10-21T13:48:55.077939Z",
     "start_time": "2024-10-21T13:48:54.604166Z"
    }
   },
   "cell_type": "code",
   "source": [
    "@Language.component(\"longest_token\")\n",
    "def longest_token(doc):\n",
    "    print(max(doc, key=len))\n",
    "    return doc\n",
    "\n",
    "nlp = spacy.load(\"en_core_web_sm\")\n",
    "\n",
    "nlp.add_pipe(\"longest_token\")\n",
    "print(nlp.pipe_names)"
   ],
   "id": "7bf9465442f726a9",
   "outputs": [
    {
     "name": "stdout",
     "output_type": "stream",
     "text": [
      "['tok2vec', 'tagger', 'parser', 'attribute_ruler', 'lemmatizer', 'ner', 'longest_token']\n"
     ]
    }
   ],
   "execution_count": 32
  },
  {
   "metadata": {
    "ExecuteTime": {
     "end_time": "2024-10-21T13:48:56.937601Z",
     "start_time": "2024-10-21T13:48:56.740188Z"
    }
   },
   "cell_type": "code",
   "source": "doc = nlp(read_file_with_encoding('../part_a/ai_forecast1.txt'))",
   "id": "65074a05cdbec529",
   "outputs": [
    {
     "name": "stdout",
     "output_type": "stream",
     "text": [
      "https://news.microsoft.com/microsoft-public-relations-contacts.Trademark\n"
     ]
    }
   ],
   "execution_count": 33
  }
 ],
 "metadata": {
  "kernelspec": {
   "display_name": "Python 3",
   "language": "python",
   "name": "python3"
  },
  "language_info": {
   "codemirror_mode": {
    "name": "ipython",
    "version": 2
   },
   "file_extension": ".py",
   "mimetype": "text/x-python",
   "name": "python",
   "nbconvert_exporter": "python",
   "pygments_lexer": "ipython2",
   "version": "2.7.6"
  }
 },
 "nbformat": 4,
 "nbformat_minor": 5
}

{
 "cells": [
  {
   "cell_type": "code",
   "id": "initial_id",
   "metadata": {
    "collapsed": true,
    "ExecuteTime": {
     "end_time": "2024-10-21T10:42:05.012547Z",
     "start_time": "2024-10-21T10:42:03.578105Z"
    }
   },
   "source": [
    "import pandas as pd\n",
    "import spacy\n",
    "from spacy.tokens import Doc, Span\n",
    "from global_scripts.txt_parser import read_file_with_encoding\n",
    "from nlp_comparing import compare_docs, compare_tokens"
   ],
   "outputs": [],
   "execution_count": 1
  },
  {
   "metadata": {
    "ExecuteTime": {
     "end_time": "2024-10-21T10:42:05.034814Z",
     "start_time": "2024-10-21T10:42:05.031554Z"
    }
   },
   "cell_type": "code",
   "source": [
    "file_path_1 = 'The_interplay_between_nature_and_culture.txt'\n",
    "file_path_2 = 'TheEvolutionOfHumanConnections.txt'\n",
    "file_path_3 = 'TheRiseandFallofAncientCivilizations .txt'"
   ],
   "id": "82c44bbc46eaace6",
   "outputs": [],
   "execution_count": 2
  },
  {
   "metadata": {
    "ExecuteTime": {
     "end_time": "2024-10-21T10:42:05.349690Z",
     "start_time": "2024-10-21T10:42:05.171518Z"
    }
   },
   "cell_type": "code",
   "source": [
    "file1 = read_file_with_encoding(file_path_1)\n",
    "file2 = read_file_with_encoding(file_path_2)\n",
    "file3 = read_file_with_encoding(file_path_3)"
   ],
   "id": "f2416061e0d45585",
   "outputs": [],
   "execution_count": 3
  },
  {
   "metadata": {
    "ExecuteTime": {
     "end_time": "2024-10-21T10:42:06.671094Z",
     "start_time": "2024-10-21T10:42:05.355600Z"
    }
   },
   "cell_type": "code",
   "source": "nlp = spacy.load(\"en_core_web_lg\")",
   "id": "4a4f0dfa32a773e6",
   "outputs": [],
   "execution_count": 4
  },
  {
   "metadata": {
    "ExecuteTime": {
     "end_time": "2024-10-21T10:42:08.711111Z",
     "start_time": "2024-10-21T10:42:06.677747Z"
    }
   },
   "cell_type": "code",
   "source": [
    "doc1 = nlp(file1)\n",
    "doc2 = nlp(file2)\n",
    "doc3 = nlp(file3)"
   ],
   "id": "3bcbb8040245ccb8",
   "outputs": [],
   "execution_count": 5
  },
  {
   "metadata": {},
   "cell_type": "markdown",
   "source": "## Comparing the docs",
   "id": "41634dd3243eb7f2"
  },
  {
   "metadata": {
    "ExecuteTime": {
     "end_time": "2024-10-21T10:42:08.789023Z",
     "start_time": "2024-10-21T10:42:08.726732Z"
    }
   },
   "cell_type": "code",
   "source": "compare_docs(doc1=doc1, doc2=doc2, doc3=doc3)",
   "id": "ae4c180c4874e0b9",
   "outputs": [
    {
     "data": {
      "text/plain": [
       "          doc1      doc2      doc3\n",
       "doc1  1.000000  0.977821  0.969381\n",
       "doc2  0.977821  1.000000  0.939765\n",
       "doc3  0.969381  0.939765  1.000000"
      ],
      "text/html": [
       "<div>\n",
       "<style scoped>\n",
       "    .dataframe tbody tr th:only-of-type {\n",
       "        vertical-align: middle;\n",
       "    }\n",
       "\n",
       "    .dataframe tbody tr th {\n",
       "        vertical-align: top;\n",
       "    }\n",
       "\n",
       "    .dataframe thead th {\n",
       "        text-align: right;\n",
       "    }\n",
       "</style>\n",
       "<table border=\"1\" class=\"dataframe\">\n",
       "  <thead>\n",
       "    <tr style=\"text-align: right;\">\n",
       "      <th></th>\n",
       "      <th>doc1</th>\n",
       "      <th>doc2</th>\n",
       "      <th>doc3</th>\n",
       "    </tr>\n",
       "  </thead>\n",
       "  <tbody>\n",
       "    <tr>\n",
       "      <th>doc1</th>\n",
       "      <td>1.000000</td>\n",
       "      <td>0.977821</td>\n",
       "      <td>0.969381</td>\n",
       "    </tr>\n",
       "    <tr>\n",
       "      <th>doc2</th>\n",
       "      <td>0.977821</td>\n",
       "      <td>1.000000</td>\n",
       "      <td>0.939765</td>\n",
       "    </tr>\n",
       "    <tr>\n",
       "      <th>doc3</th>\n",
       "      <td>0.969381</td>\n",
       "      <td>0.939765</td>\n",
       "      <td>1.000000</td>\n",
       "    </tr>\n",
       "  </tbody>\n",
       "</table>\n",
       "</div>"
      ]
     },
     "execution_count": 6,
     "metadata": {},
     "output_type": "execute_result"
    }
   ],
   "execution_count": 6
  },
  {
   "metadata": {},
   "cell_type": "markdown",
   "source": "## Compare first 100 tokens",
   "id": "b79abf3578cbc707"
  },
  {
   "metadata": {},
   "cell_type": "markdown",
   "source": "### Doc 1 - 2",
   "id": "4ab411e30be44124"
  },
  {
   "metadata": {
    "ExecuteTime": {
     "end_time": "2024-10-21T10:42:08.837563Z",
     "start_time": "2024-10-21T10:42:08.824683Z"
    }
   },
   "cell_type": "code",
   "source": "compare_tokens(doc1, doc2)",
   "id": "166420a80b029d0",
   "outputs": [
    {
     "name": "stderr",
     "output_type": "stream",
     "text": [
      "C:\\Users\\zouff\\PycharmProjects\\Y3\\AI\\NLP\\part_b\\nlp_comparing.py:20: UserWarning: [W008] Evaluating Token.similarity based on empty vectors.\n",
      "  value.append(doc1[i].similarity(doc2[i]))\n"
     ]
    },
    {
     "data": {
      "text/plain": [
       "          Token 1        Token 2 Similarity\n",
       "0             The            The        1.0\n",
       "1       Interplay      Evolution   0.427782\n",
       "2         Between             of   0.560258\n",
       "3          Nature          Human   0.578378\n",
       "4             and  Communication   0.330893\n",
       "..            ...            ...        ...\n",
       "95            and              ,   0.466192\n",
       "96            the            and   0.562487\n",
       "97         impact   implications   0.674745\n",
       "98             of            for   0.553522\n",
       "99  globalization            the   0.195129\n",
       "\n",
       "[100 rows x 3 columns]"
      ],
      "text/html": [
       "<div>\n",
       "<style scoped>\n",
       "    .dataframe tbody tr th:only-of-type {\n",
       "        vertical-align: middle;\n",
       "    }\n",
       "\n",
       "    .dataframe tbody tr th {\n",
       "        vertical-align: top;\n",
       "    }\n",
       "\n",
       "    .dataframe thead th {\n",
       "        text-align: right;\n",
       "    }\n",
       "</style>\n",
       "<table border=\"1\" class=\"dataframe\">\n",
       "  <thead>\n",
       "    <tr style=\"text-align: right;\">\n",
       "      <th></th>\n",
       "      <th>Token 1</th>\n",
       "      <th>Token 2</th>\n",
       "      <th>Similarity</th>\n",
       "    </tr>\n",
       "  </thead>\n",
       "  <tbody>\n",
       "    <tr>\n",
       "      <th>0</th>\n",
       "      <td>The</td>\n",
       "      <td>The</td>\n",
       "      <td>1.0</td>\n",
       "    </tr>\n",
       "    <tr>\n",
       "      <th>1</th>\n",
       "      <td>Interplay</td>\n",
       "      <td>Evolution</td>\n",
       "      <td>0.427782</td>\n",
       "    </tr>\n",
       "    <tr>\n",
       "      <th>2</th>\n",
       "      <td>Between</td>\n",
       "      <td>of</td>\n",
       "      <td>0.560258</td>\n",
       "    </tr>\n",
       "    <tr>\n",
       "      <th>3</th>\n",
       "      <td>Nature</td>\n",
       "      <td>Human</td>\n",
       "      <td>0.578378</td>\n",
       "    </tr>\n",
       "    <tr>\n",
       "      <th>4</th>\n",
       "      <td>and</td>\n",
       "      <td>Communication</td>\n",
       "      <td>0.330893</td>\n",
       "    </tr>\n",
       "    <tr>\n",
       "      <th>...</th>\n",
       "      <td>...</td>\n",
       "      <td>...</td>\n",
       "      <td>...</td>\n",
       "    </tr>\n",
       "    <tr>\n",
       "      <th>95</th>\n",
       "      <td>and</td>\n",
       "      <td>,</td>\n",
       "      <td>0.466192</td>\n",
       "    </tr>\n",
       "    <tr>\n",
       "      <th>96</th>\n",
       "      <td>the</td>\n",
       "      <td>and</td>\n",
       "      <td>0.562487</td>\n",
       "    </tr>\n",
       "    <tr>\n",
       "      <th>97</th>\n",
       "      <td>impact</td>\n",
       "      <td>implications</td>\n",
       "      <td>0.674745</td>\n",
       "    </tr>\n",
       "    <tr>\n",
       "      <th>98</th>\n",
       "      <td>of</td>\n",
       "      <td>for</td>\n",
       "      <td>0.553522</td>\n",
       "    </tr>\n",
       "    <tr>\n",
       "      <th>99</th>\n",
       "      <td>globalization</td>\n",
       "      <td>the</td>\n",
       "      <td>0.195129</td>\n",
       "    </tr>\n",
       "  </tbody>\n",
       "</table>\n",
       "<p>100 rows × 3 columns</p>\n",
       "</div>"
      ]
     },
     "execution_count": 7,
     "metadata": {},
     "output_type": "execute_result"
    }
   ],
   "execution_count": 7
  },
  {
   "metadata": {},
   "cell_type": "markdown",
   "source": "### Doc 1 - 3",
   "id": "be41c095e4083296"
  },
  {
   "metadata": {
    "ExecuteTime": {
     "end_time": "2024-10-21T10:42:08.874404Z",
     "start_time": "2024-10-21T10:42:08.862650Z"
    }
   },
   "cell_type": "code",
   "source": "compare_tokens(doc1, doc3)",
   "id": "2e2c72d5a792307c",
   "outputs": [
    {
     "name": "stderr",
     "output_type": "stream",
     "text": [
      "C:\\Users\\zouff\\PycharmProjects\\Y3\\AI\\NLP\\part_b\\nlp_comparing.py:20: UserWarning: [W008] Evaluating Token.similarity based on empty vectors.\n",
      "  value.append(doc1[i].similarity(doc2[i]))\n"
     ]
    },
    {
     "data": {
      "text/plain": [
       "          Token 1       Token 2 Similarity\n",
       "0             The           The        1.0\n",
       "1       Interplay          Rise   0.172405\n",
       "2         Between           and   0.496923\n",
       "3          Nature          Fall   0.365203\n",
       "4             and            of   0.583599\n",
       "..            ...           ...        ...\n",
       "95            and    Revolution   0.230933\n",
       "96            the             ,   0.207785\n",
       "97         impact         where   0.395471\n",
       "98             of        humans   0.305309\n",
       "99  globalization  transitioned   0.196183\n",
       "\n",
       "[100 rows x 3 columns]"
      ],
      "text/html": [
       "<div>\n",
       "<style scoped>\n",
       "    .dataframe tbody tr th:only-of-type {\n",
       "        vertical-align: middle;\n",
       "    }\n",
       "\n",
       "    .dataframe tbody tr th {\n",
       "        vertical-align: top;\n",
       "    }\n",
       "\n",
       "    .dataframe thead th {\n",
       "        text-align: right;\n",
       "    }\n",
       "</style>\n",
       "<table border=\"1\" class=\"dataframe\">\n",
       "  <thead>\n",
       "    <tr style=\"text-align: right;\">\n",
       "      <th></th>\n",
       "      <th>Token 1</th>\n",
       "      <th>Token 2</th>\n",
       "      <th>Similarity</th>\n",
       "    </tr>\n",
       "  </thead>\n",
       "  <tbody>\n",
       "    <tr>\n",
       "      <th>0</th>\n",
       "      <td>The</td>\n",
       "      <td>The</td>\n",
       "      <td>1.0</td>\n",
       "    </tr>\n",
       "    <tr>\n",
       "      <th>1</th>\n",
       "      <td>Interplay</td>\n",
       "      <td>Rise</td>\n",
       "      <td>0.172405</td>\n",
       "    </tr>\n",
       "    <tr>\n",
       "      <th>2</th>\n",
       "      <td>Between</td>\n",
       "      <td>and</td>\n",
       "      <td>0.496923</td>\n",
       "    </tr>\n",
       "    <tr>\n",
       "      <th>3</th>\n",
       "      <td>Nature</td>\n",
       "      <td>Fall</td>\n",
       "      <td>0.365203</td>\n",
       "    </tr>\n",
       "    <tr>\n",
       "      <th>4</th>\n",
       "      <td>and</td>\n",
       "      <td>of</td>\n",
       "      <td>0.583599</td>\n",
       "    </tr>\n",
       "    <tr>\n",
       "      <th>...</th>\n",
       "      <td>...</td>\n",
       "      <td>...</td>\n",
       "      <td>...</td>\n",
       "    </tr>\n",
       "    <tr>\n",
       "      <th>95</th>\n",
       "      <td>and</td>\n",
       "      <td>Revolution</td>\n",
       "      <td>0.230933</td>\n",
       "    </tr>\n",
       "    <tr>\n",
       "      <th>96</th>\n",
       "      <td>the</td>\n",
       "      <td>,</td>\n",
       "      <td>0.207785</td>\n",
       "    </tr>\n",
       "    <tr>\n",
       "      <th>97</th>\n",
       "      <td>impact</td>\n",
       "      <td>where</td>\n",
       "      <td>0.395471</td>\n",
       "    </tr>\n",
       "    <tr>\n",
       "      <th>98</th>\n",
       "      <td>of</td>\n",
       "      <td>humans</td>\n",
       "      <td>0.305309</td>\n",
       "    </tr>\n",
       "    <tr>\n",
       "      <th>99</th>\n",
       "      <td>globalization</td>\n",
       "      <td>transitioned</td>\n",
       "      <td>0.196183</td>\n",
       "    </tr>\n",
       "  </tbody>\n",
       "</table>\n",
       "<p>100 rows × 3 columns</p>\n",
       "</div>"
      ]
     },
     "execution_count": 8,
     "metadata": {},
     "output_type": "execute_result"
    }
   ],
   "execution_count": 8
  },
  {
   "metadata": {},
   "cell_type": "markdown",
   "source": "### Doc 2 - 3",
   "id": "8bb4dfd2b83a7c29"
  },
  {
   "metadata": {
    "ExecuteTime": {
     "end_time": "2024-10-21T10:42:08.970685Z",
     "start_time": "2024-10-21T10:42:08.958740Z"
    }
   },
   "cell_type": "code",
   "source": "compare_tokens(doc2, doc3)",
   "id": "bbe3afdbbdf779d4",
   "outputs": [
    {
     "name": "stderr",
     "output_type": "stream",
     "text": [
      "C:\\Users\\zouff\\PycharmProjects\\Y3\\AI\\NLP\\part_b\\nlp_comparing.py:20: UserWarning: [W008] Evaluating Token.similarity based on empty vectors.\n",
      "  value.append(doc1[i].similarity(doc2[i]))\n"
     ]
    },
    {
     "data": {
      "text/plain": [
       "          Token 1       Token 2 Similarity\n",
       "0             The           The        1.0\n",
       "1       Evolution          Rise   0.369472\n",
       "2              of           and   0.583599\n",
       "3           Human          Fall   0.275329\n",
       "4   Communication            of   0.316228\n",
       "..            ...           ...        ...\n",
       "95              ,    Revolution   0.154933\n",
       "96            and             ,   0.466192\n",
       "97   implications         where   0.334912\n",
       "98            for        humans   0.213753\n",
       "99            the  transitioned   0.128594\n",
       "\n",
       "[100 rows x 3 columns]"
      ],
      "text/html": [
       "<div>\n",
       "<style scoped>\n",
       "    .dataframe tbody tr th:only-of-type {\n",
       "        vertical-align: middle;\n",
       "    }\n",
       "\n",
       "    .dataframe tbody tr th {\n",
       "        vertical-align: top;\n",
       "    }\n",
       "\n",
       "    .dataframe thead th {\n",
       "        text-align: right;\n",
       "    }\n",
       "</style>\n",
       "<table border=\"1\" class=\"dataframe\">\n",
       "  <thead>\n",
       "    <tr style=\"text-align: right;\">\n",
       "      <th></th>\n",
       "      <th>Token 1</th>\n",
       "      <th>Token 2</th>\n",
       "      <th>Similarity</th>\n",
       "    </tr>\n",
       "  </thead>\n",
       "  <tbody>\n",
       "    <tr>\n",
       "      <th>0</th>\n",
       "      <td>The</td>\n",
       "      <td>The</td>\n",
       "      <td>1.0</td>\n",
       "    </tr>\n",
       "    <tr>\n",
       "      <th>1</th>\n",
       "      <td>Evolution</td>\n",
       "      <td>Rise</td>\n",
       "      <td>0.369472</td>\n",
       "    </tr>\n",
       "    <tr>\n",
       "      <th>2</th>\n",
       "      <td>of</td>\n",
       "      <td>and</td>\n",
       "      <td>0.583599</td>\n",
       "    </tr>\n",
       "    <tr>\n",
       "      <th>3</th>\n",
       "      <td>Human</td>\n",
       "      <td>Fall</td>\n",
       "      <td>0.275329</td>\n",
       "    </tr>\n",
       "    <tr>\n",
       "      <th>4</th>\n",
       "      <td>Communication</td>\n",
       "      <td>of</td>\n",
       "      <td>0.316228</td>\n",
       "    </tr>\n",
       "    <tr>\n",
       "      <th>...</th>\n",
       "      <td>...</td>\n",
       "      <td>...</td>\n",
       "      <td>...</td>\n",
       "    </tr>\n",
       "    <tr>\n",
       "      <th>95</th>\n",
       "      <td>,</td>\n",
       "      <td>Revolution</td>\n",
       "      <td>0.154933</td>\n",
       "    </tr>\n",
       "    <tr>\n",
       "      <th>96</th>\n",
       "      <td>and</td>\n",
       "      <td>,</td>\n",
       "      <td>0.466192</td>\n",
       "    </tr>\n",
       "    <tr>\n",
       "      <th>97</th>\n",
       "      <td>implications</td>\n",
       "      <td>where</td>\n",
       "      <td>0.334912</td>\n",
       "    </tr>\n",
       "    <tr>\n",
       "      <th>98</th>\n",
       "      <td>for</td>\n",
       "      <td>humans</td>\n",
       "      <td>0.213753</td>\n",
       "    </tr>\n",
       "    <tr>\n",
       "      <th>99</th>\n",
       "      <td>the</td>\n",
       "      <td>transitioned</td>\n",
       "      <td>0.128594</td>\n",
       "    </tr>\n",
       "  </tbody>\n",
       "</table>\n",
       "<p>100 rows × 3 columns</p>\n",
       "</div>"
      ]
     },
     "execution_count": 9,
     "metadata": {},
     "output_type": "execute_result"
    }
   ],
   "execution_count": 9
  },
  {
   "metadata": {},
   "cell_type": "markdown",
   "source": "## Add own name",
   "id": "68c9976d62275127"
  },
  {
   "metadata": {
    "ExecuteTime": {
     "end_time": "2024-10-21T10:46:32.520663Z",
     "start_time": "2024-10-21T10:46:32.418850Z"
    }
   },
   "cell_type": "code",
   "source": [
    "nlp = spacy.blank(\"en\")\n",
    "\n",
    "words = [\"Luca\", \"Dandois\"]\n",
    "spaces = [True, False]\n",
    "\n",
    "doc = Doc(nlp.vocab, words=words, spaces=spaces)\n",
    "\n",
    "span = Span(doc, 0, 2, label=\"PERSON\")\n",
    "\n",
    "doc.ents = [span]\n",
    "\n",
    "print([(ent.text, ent.label_) for ent in doc.ents])"
   ],
   "id": "5edd1a6b0c77ef8f",
   "outputs": [
    {
     "name": "stdout",
     "output_type": "stream",
     "text": [
      "[('Luca Dandois', 'PERSON')]\n"
     ]
    }
   ],
   "execution_count": 14
  }
 ],
 "metadata": {
  "kernelspec": {
   "display_name": "Python 3",
   "language": "python",
   "name": "python3"
  },
  "language_info": {
   "codemirror_mode": {
    "name": "ipython",
    "version": 2
   },
   "file_extension": ".py",
   "mimetype": "text/x-python",
   "name": "python",
   "nbconvert_exporter": "python",
   "pygments_lexer": "ipython2",
   "version": "2.7.6"
  }
 },
 "nbformat": 4,
 "nbformat_minor": 5
}

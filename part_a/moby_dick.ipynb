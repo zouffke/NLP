{
 "cells": [
  {
   "metadata": {},
   "cell_type": "markdown",
   "source": "# NLP task part a",
   "id": "990c90b59088c2fa"
  },
  {
   "metadata": {},
   "cell_type": "markdown",
   "source": "## Imports",
   "id": "b6146eaeb2c24a50"
  },
  {
   "metadata": {
    "ExecuteTime": {
     "end_time": "2024-10-17T18:44:11.252191Z",
     "start_time": "2024-10-17T18:44:09.714089Z"
    }
   },
   "cell_type": "code",
   "source": "from nlp_file_analyser import Analyser",
   "id": "348eff833157f63",
   "outputs": [],
   "execution_count": 1
  },
  {
   "metadata": {
    "ExecuteTime": {
     "end_time": "2024-10-17T19:05:53.580479Z",
     "start_time": "2024-10-17T19:05:53.020535Z"
    }
   },
   "cell_type": "code",
   "source": [
    "file_path_moby_dick = 'mobydick_extract.txt'\n",
    "\n",
    "analyser = Analyser(file_path_moby_dick)"
   ],
   "id": "d033e00818ee4756",
   "outputs": [],
   "execution_count": 9
  }
 ],
 "metadata": {
  "kernelspec": {
   "display_name": "Python 3",
   "language": "python",
   "name": "python3"
  },
  "language_info": {
   "codemirror_mode": {
    "name": "ipython",
    "version": 2
   },
   "file_extension": ".py",
   "mimetype": "text/x-python",
   "name": "python",
   "nbconvert_exporter": "python",
   "pygments_lexer": "ipython2",
   "version": "2.7.6"
  }
 },
 "nbformat": 4,
 "nbformat_minor": 5
}
